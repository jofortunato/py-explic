{
 "cells": [
  {
   "cell_type": "markdown",
   "metadata": {},
   "source": [
    "# 1.\n",
    "O ficheiro *EPL1819.csv* contém as estatisticas de todos os jogadores da primeira liga inglesa da época 2018/2019. O ficheiro contém uma linha para cada jogador e várias colunas de dados separados por \",\". Nas colunas indicadas estão os seguintes dados:\n",
    "    - 1ª Coluna: Nome - string\n",
    "    - 2ª Coluna: Idade - inteiro\n",
    "    - 8ª Coluna: Total Minutos Jogados - inteiro\n",
    "    - 11ª Coluna: Nacionalidade - string\n",
    "    - 12ª Coluna: Total Jogos Jogados - inteiro\n",
    "    - 15ª Coluna: Total Golos Marcados - inteiro\n",
    "    \n",
    "Crie uma função que lê o ficheiro indicado e retorna uma lista de dicionários com os dados das colunas indicadas."
   ]
  },
  {
   "cell_type": "code",
   "execution_count": 50,
   "metadata": {},
   "outputs": [],
   "source": [
    "def read_file(file):\n",
    "    player_list = []\n",
    "    \n",
    "    f = open(file, \"r\")\n",
    "    lines = f.readlines()\n",
    "    \n",
    "    for line in lines:\n",
    "        aux_list = line.split(\",\")\n",
    "        \n",
    "        aux_dict = {}\n",
    "        aux_dict[\"name\"] = aux_list[0]\n",
    "        aux_dict[\"age\"] = int(aux_list[1])\n",
    "        aux_dict[\"total_min\"] = int(aux_list[7])\n",
    "        aux_dict[\"nacionality\"] = aux_list[10]\n",
    "        aux_dict[\"total_games\"] = int(aux_list[11])\n",
    "        aux_dict[\"total_goals\"] = int(aux_list[14])\n",
    "        \n",
    "        player_list.append(aux_dict)\n",
    "    f.close()\n",
    "    return player_list\n",
    "  "
   ]
  },
  {
   "cell_type": "code",
   "execution_count": 51,
   "metadata": {},
   "outputs": [
    {
     "name": "stdout",
     "output_type": "stream",
     "text": [
      "{'name': 'Nathaniel Mendez-Laing', 'age': 28, 'total_min': 984, 'nacionality': 'England', 'total_games': 20, 'total_goals': 4}\n"
     ]
    }
   ],
   "source": [
    "player_list = read_file(\"EPL1819.csv\")\n",
    "\n",
    "print(player_list[100])"
   ]
  },
  {
   "cell_type": "markdown",
   "metadata": {},
   "source": [
    "Crie uma função que recebe a lista de dicionários e adiciona duas entradas nos dicionários: \"goals_per_game\" e \"minutes_per_goal\"."
   ]
  },
  {
   "cell_type": "code",
   "execution_count": 17,
   "metadata": {},
   "outputs": [],
   "source": [
    "def add_entries(player_list):\n",
    "    for player in player_list:\n",
    "        if player[\"total_games\"] != 0:\n",
    "            player[\"goals_per_game\"] = player[\"total_goals\"]/player[\"total_games\"]\n",
    "        else:\n",
    "            player[\"goals_per_game\"] = 0\n",
    "            \n",
    "        if player[\"total_goals\"] != 0:\n",
    "            player[\"minutes_per_goal\"] = player[\"total_min\"]/player[\"total_goals\"]\n",
    "        else:\n",
    "            player[\"minutes_per_goal\"] = 0\n",
    "        \n",
    "    return player_list"
   ]
  },
  {
   "cell_type": "code",
   "execution_count": 18,
   "metadata": {},
   "outputs": [],
   "source": [
    "player_list = add_entries(player_list)"
   ]
  },
  {
   "cell_type": "code",
   "execution_count": 19,
   "metadata": {},
   "outputs": [
    {
     "name": "stdout",
     "output_type": "stream",
     "text": [
      "{'name': 'Nathaniel Mendez-Laing', 'age': 28, 'total_min': 984, 'nacionality': 'England', 'total_games': 20, 'total_goals': 4, 'goals_per_game': 0.2, 'minutes_per_goal': 246.0}\n"
     ]
    }
   ],
   "source": [
    "print(player_list[100])"
   ]
  },
  {
   "cell_type": "markdown",
   "metadata": {},
   "source": [
    "Criar um gráfico em que no eixo do x aparece o número total de jogos e no eixo do y o número total de golos."
   ]
  },
  {
   "cell_type": "code",
   "execution_count": 68,
   "metadata": {},
   "outputs": [],
   "source": [
    "import matplotlib.pyplot as plt\n",
    "\n",
    "def plot_players_goals(player_list):\n",
    "    total_games = []\n",
    "    total_goals = []\n",
    "    for player in player_list:\n",
    "        total_games.append(player[\"total_games\"])\n",
    "        total_goals.append(player[\"total_goals\"])\n",
    "    \n",
    "    plt.figure(figsize=(10,7))\n",
    "    plt.plot(total_games, total_goals, \"*\")\n",
    "    plt.title(\"Total Goals vs Games Played\")\n",
    "    plt.show()"
   ]
  },
  {
   "cell_type": "code",
   "execution_count": 69,
   "metadata": {},
   "outputs": [
    {
     "data": {
      "image/png": "[encoded data removed]",
      "text/plain": [
       "<Figure size 720x504 with 1 Axes>"
      ]
     },
     "metadata": {
      "needs_background": "light"
     },
     "output_type": "display_data"
    }
   ],
   "source": [
    "plot_players_goals(player_list)"
   ]
  },
  {
   "cell_type": "code",
   "execution_count": 82,
   "metadata": {},
   "outputs": [
    {
     "data": {
      "image/png": "[encoded data removed]",
      "text/plain": [
       "<Figure size 720x504 with 1 Axes>"
      ]
     },
     "metadata": {
      "needs_background": "light"
     },
     "output_type": "display_data"
    }
   ],
   "source": [
    "x = [0, 1, 2, 3,4,5,6]\n",
    "y = [1, 2, 3, -2, 3, -2, 0]\n",
    "\n",
    "\n",
    "plt.figure(figsize=(10,7))\n",
    "plt.plot(x, y, \"xg\")\n",
    "plt.title(\"Exemplo\")\n",
    "plt.show()"
   ]
  },
  {
   "cell_type": "markdown",
   "metadata": {},
   "source": [
    "### Cores\n",
    "{'b', 'g', 'r', 'c', 'm', 'y', 'k', 'w'}, they are the single character short-hand notations for blue, green, red, cyan, magenta, yellow, black, and white."
   ]
  },
  {
   "cell_type": "markdown",
   "metadata": {},
   "source": [
    "### Marcadores\n",
    "\n",
    "https://matplotlib.org/api/markers_api.html?highlight=symbols"
   ]
  },
  {
   "cell_type": "markdown",
   "metadata": {},
   "source": [
    "Defina uma função que recebe a lista completa de jogadores, uma nacionalidade e uma idade e devevolve uma lista de dicionários com jogadores dessa nacionalidade e com idade igual ou inferior à idade dada. "
   ]
  },
  {
   "cell_type": "markdown",
   "metadata": {},
   "source": [
    "# 2.\n",
    "\n",
    "Considere o ficheiro *Climate.csv* que contém dados de temperatura e percipitação por mês cada mês desde 1901 até 2016. Os dados do ficheiro estão separados por *;*.\n",
    "\n",
    "Defina uma função que constroí uma lista de listas para guardar os dados do ficheiro."
   ]
  }
 ],
 "metadata": {
  "kernelspec": {
   "display_name": "Python 3",
   "language": "python",
   "name": "python3"
  },
  "language_info": {
   "codemirror_mode": {
    "name": "ipython",
    "version": 3
   },
   "file_extension": ".py",
   "mimetype": "text/x-python",
   "name": "python",
   "nbconvert_exporter": "python",
   "pygments_lexer": "ipython3",
   "version": "3.6.9"
  }
 },
 "nbformat": 4,
 "nbformat_minor": 4
}
